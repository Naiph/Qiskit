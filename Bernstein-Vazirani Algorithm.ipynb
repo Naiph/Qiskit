{
 "cells": [
  {
   "cell_type": "code",
   "execution_count": 14,
   "metadata": {},
   "outputs": [],
   "source": [
    "from qiskit import *"
   ]
  },
  {
   "cell_type": "code",
   "execution_count": 15,
   "metadata": {},
   "outputs": [],
   "source": [
    "%matplotlib inline\n",
    "from qiskit.tools.visualization import plot_histogram"
   ]
  },
  {
   "cell_type": "code",
   "execution_count": 16,
   "metadata": {},
   "outputs": [],
   "source": [
    "secretnum = '101001'"
   ]
  },
  {
   "cell_type": "code",
   "execution_count": 17,
   "metadata": {},
   "outputs": [],
   "source": [
    "circuit = QuantumCircuit(6+1, 6)"
   ]
  },
  {
   "cell_type": "code",
   "execution_count": 18,
   "metadata": {},
   "outputs": [
    {
     "data": {
      "text/plain": [
       "<qiskit.extensions.standard.h.HGate at 0x7fd138e52a20>"
      ]
     },
     "execution_count": 18,
     "metadata": {},
     "output_type": "execute_result"
    }
   ],
   "source": [
    "circuit.h([0,1,2,3,4,5])\n",
    "circuit.x(6)\n",
    "circuit.h(6)"
   ]
  },
  {
   "cell_type": "code",
   "execution_count": 19,
   "metadata": {},
   "outputs": [
    {
     "data": {
      "image/png": "[encoded data removed]",
      "text/plain": [
       "<Figure size 301x800.66 with 1 Axes>"
      ]
     },
     "execution_count": 19,
     "metadata": {},
     "output_type": "execute_result"
    }
   ],
   "source": [
    "circuit.draw(output='mpl')"
   ]
  },
  {
   "cell_type": "code",
   "execution_count": 22,
   "metadata": {},
   "outputs": [
    {
     "data": {
      "text/html": [
       "<pre style=\"word-wrap: normal;white-space: pre;line-height: 15px;\">        ┌───┐      ░  ░  ░ \n",
       "q_0: |0>┤ H ├──────░──░──░─\n",
       "        ├───┤      ░  ░  ░ \n",
       "q_1: |0>┤ H ├──────░──░──░─\n",
       "        ├───┤      ░  ░  ░ \n",
       "q_2: |0>┤ H ├──────░──░──░─\n",
       "        ├───┤      ░  ░  ░ \n",
       "q_3: |0>┤ H ├──────░──░──░─\n",
       "        ├───┤      ░  ░  ░ \n",
       "q_4: |0>┤ H ├──────░──░──░─\n",
       "        ├───┤      ░  ░  ░ \n",
       "q_5: |0>┤ H ├──────░──░──░─\n",
       "        ├───┤┌───┐ ░  ░  ░ \n",
       "q_6: |0>┤ X ├┤ H ├─░──░──░─\n",
       "        └───┘└───┘ ░  ░  ░ \n",
       " c_0: 0 ═══════════════════\n",
       "                           \n",
       " c_1: 0 ═══════════════════\n",
       "                           \n",
       " c_2: 0 ═══════════════════\n",
       "                           \n",
       " c_3: 0 ═══════════════════\n",
       "                           \n",
       " c_4: 0 ═══════════════════\n",
       "                           \n",
       " c_5: 0 ═══════════════════\n",
       "                           </pre>"
      ],
      "text/plain": [
       "<qiskit.visualization.text.TextDrawing at 0x7fd1390c3a58>"
      ]
     },
     "execution_count": 22,
     "metadata": {},
     "output_type": "execute_result"
    }
   ],
   "source": [
    "circuit.barrier()\n",
    "circuit.draw()"
   ]
  },
  {
   "cell_type": "code",
   "execution_count": 23,
   "metadata": {},
   "outputs": [
    {
     "data": {
      "text/plain": [
       "<qiskit.extensions.standard.cx.CnotGate at 0x7fd1391fd4a8>"
      ]
     },
     "execution_count": 23,
     "metadata": {},
     "output_type": "execute_result"
    }
   ],
   "source": [
    "circuit.cx(5,6)\n",
    "circuit.cx(3,6)\n",
    "circuit.cx(0,6)"
   ]
  },
  {
   "cell_type": "markdown",
   "metadata": {},
   "source": [
    "Apply a controlled X operation on the bits that are 1. Those are 5th, 3rd and 0th bits"
   ]
  },
  {
   "cell_type": "code",
   "execution_count": 27,
   "metadata": {},
   "outputs": [
    {
     "data": {
      "text/html": [
       "<pre style=\"word-wrap: normal;white-space: pre;line-height: 15px;\">        ┌───┐      ░  ░  ░                 ░ \n",
       "q_0: |0>┤ H ├──────░──░──░─────────────■───░─\n",
       "        ├───┤      ░  ░  ░             │   ░ \n",
       "q_1: |0>┤ H ├──────░──░──░─────────────┼───░─\n",
       "        ├───┤      ░  ░  ░             │   ░ \n",
       "q_2: |0>┤ H ├──────░──░──░─────────────┼───░─\n",
       "        ├───┤      ░  ░  ░             │   ░ \n",
       "q_3: |0>┤ H ├──────░──░──░────────■────┼───░─\n",
       "        ├───┤      ░  ░  ░        │    │   ░ \n",
       "q_4: |0>┤ H ├──────░──░──░────────┼────┼───░─\n",
       "        ├───┤      ░  ░  ░        │    │   ░ \n",
       "q_5: |0>┤ H ├──────░──░──░───■────┼────┼───░─\n",
       "        ├───┤┌───┐ ░  ░  ░ ┌─┴─┐┌─┴─┐┌─┴─┐ ░ \n",
       "q_6: |0>┤ X ├┤ H ├─░──░──░─┤ X ├┤ X ├┤ X ├─░─\n",
       "        └───┘└───┘ ░  ░  ░ └───┘└───┘└───┘ ░ \n",
       " c_0: 0 ═════════════════════════════════════\n",
       "                                             \n",
       " c_1: 0 ═════════════════════════════════════\n",
       "                                             \n",
       " c_2: 0 ═════════════════════════════════════\n",
       "                                             \n",
       " c_3: 0 ═════════════════════════════════════\n",
       "                                             \n",
       " c_4: 0 ═════════════════════════════════════\n",
       "                                             \n",
       " c_5: 0 ═════════════════════════════════════\n",
       "                                             </pre>"
      ],
      "text/plain": [
       "<qiskit.visualization.text.TextDrawing at 0x7fd138df53c8>"
      ]
     },
     "execution_count": 27,
     "metadata": {},
     "output_type": "execute_result"
    }
   ],
   "source": [
    "circuit.barrier()\n",
    "circuit.draw()"
   ]
  },
  {
   "cell_type": "code",
   "execution_count": 28,
   "metadata": {},
   "outputs": [
    {
     "data": {
      "text/html": [
       "<pre style=\"word-wrap: normal;white-space: pre;line-height: 15px;\">        ┌───┐      ░  ░  ░                 ░ ┌───┐\n",
       "q_0: |0>┤ H ├──────░──░──░─────────────■───░─┤ H ├\n",
       "        ├───┤      ░  ░  ░             │   ░ ├───┤\n",
       "q_1: |0>┤ H ├──────░──░──░─────────────┼───░─┤ H ├\n",
       "        ├───┤      ░  ░  ░             │   ░ ├───┤\n",
       "q_2: |0>┤ H ├──────░──░──░─────────────┼───░─┤ H ├\n",
       "        ├───┤      ░  ░  ░             │   ░ ├───┤\n",
       "q_3: |0>┤ H ├──────░──░──░────────■────┼───░─┤ H ├\n",
       "        ├───┤      ░  ░  ░        │    │   ░ ├───┤\n",
       "q_4: |0>┤ H ├──────░──░──░────────┼────┼───░─┤ H ├\n",
       "        ├───┤      ░  ░  ░        │    │   ░ ├───┤\n",
       "q_5: |0>┤ H ├──────░──░──░───■────┼────┼───░─┤ H ├\n",
       "        ├───┤┌───┐ ░  ░  ░ ┌─┴─┐┌─┴─┐┌─┴─┐ ░ └───┘\n",
       "q_6: |0>┤ X ├┤ H ├─░──░──░─┤ X ├┤ X ├┤ X ├─░──────\n",
       "        └───┘└───┘ ░  ░  ░ └───┘└───┘└───┘ ░      \n",
       " c_0: 0 ══════════════════════════════════════════\n",
       "                                                  \n",
       " c_1: 0 ══════════════════════════════════════════\n",
       "                                                  \n",
       " c_2: 0 ══════════════════════════════════════════\n",
       "                                                  \n",
       " c_3: 0 ══════════════════════════════════════════\n",
       "                                                  \n",
       " c_4: 0 ══════════════════════════════════════════\n",
       "                                                  \n",
       " c_5: 0 ══════════════════════════════════════════\n",
       "                                                  </pre>"
      ],
      "text/plain": [
       "<qiskit.visualization.text.TextDrawing at 0x7fd139081f98>"
      ]
     },
     "execution_count": 28,
     "metadata": {},
     "output_type": "execute_result"
    }
   ],
   "source": [
    "circuit.h([0,1,2,3,4,5])\n",
    "circuit.draw()"
   ]
  },
  {
   "cell_type": "markdown",
   "metadata": {},
   "source": [
    "This is the circuit for Bernstein-Vazirani Algorithm. Now, let's measure"
   ]
  },
  {
   "cell_type": "code",
   "execution_count": 29,
   "metadata": {},
   "outputs": [
    {
     "data": {
      "text/plain": [
       "<qiskit.circuit.instructionset.InstructionSet at 0x7fd139053cf8>"
      ]
     },
     "execution_count": 29,
     "metadata": {},
     "output_type": "execute_result"
    }
   ],
   "source": [
    "circuit.measure([0,1,2,3,4,5], [0,1,2,3,4,5])"
   ]
  },
  {
   "cell_type": "code",
   "execution_count": 30,
   "metadata": {},
   "outputs": [
    {
     "data": {
      "text/html": [
       "<pre style=\"word-wrap: normal;white-space: pre;line-height: 15px;\">        ┌───┐      ░  ░  ░                 ░ ┌───┐┌─┐               \n",
       "q_0: |0>┤ H ├──────░──░──░─────────────■───░─┤ H ├┤M├───────────────\n",
       "        ├───┤      ░  ░  ░             │   ░ ├───┤└╥┘┌─┐            \n",
       "q_1: |0>┤ H ├──────░──░──░─────────────┼───░─┤ H ├─╫─┤M├────────────\n",
       "        ├───┤      ░  ░  ░             │   ░ ├───┤ ║ └╥┘┌─┐         \n",
       "q_2: |0>┤ H ├──────░──░──░─────────────┼───░─┤ H ├─╫──╫─┤M├─────────\n",
       "        ├───┤      ░  ░  ░             │   ░ ├───┤ ║  ║ └╥┘┌─┐      \n",
       "q_3: |0>┤ H ├──────░──░──░────────■────┼───░─┤ H ├─╫──╫──╫─┤M├──────\n",
       "        ├───┤      ░  ░  ░        │    │   ░ ├───┤ ║  ║  ║ └╥┘┌─┐   \n",
       "q_4: |0>┤ H ├──────░──░──░────────┼────┼───░─┤ H ├─╫──╫──╫──╫─┤M├───\n",
       "        ├───┤      ░  ░  ░        │    │   ░ ├───┤ ║  ║  ║  ║ └╥┘┌─┐\n",
       "q_5: |0>┤ H ├──────░──░──░───■────┼────┼───░─┤ H ├─╫──╫──╫──╫──╫─┤M├\n",
       "        ├───┤┌───┐ ░  ░  ░ ┌─┴─┐┌─┴─┐┌─┴─┐ ░ └───┘ ║  ║  ║  ║  ║ └╥┘\n",
       "q_6: |0>┤ X ├┤ H ├─░──░──░─┤ X ├┤ X ├┤ X ├─░───────╫──╫──╫──╫──╫──╫─\n",
       "        └───┘└───┘ ░  ░  ░ └───┘└───┘└───┘ ░       ║  ║  ║  ║  ║  ║ \n",
       " c_0: 0 ═══════════════════════════════════════════╩══╬══╬══╬══╬══╬═\n",
       "                                                      ║  ║  ║  ║  ║ \n",
       " c_1: 0 ══════════════════════════════════════════════╩══╬══╬══╬══╬═\n",
       "                                                         ║  ║  ║  ║ \n",
       " c_2: 0 ═════════════════════════════════════════════════╩══╬══╬══╬═\n",
       "                                                            ║  ║  ║ \n",
       " c_3: 0 ════════════════════════════════════════════════════╩══╬══╬═\n",
       "                                                               ║  ║ \n",
       " c_4: 0 ═══════════════════════════════════════════════════════╩══╬═\n",
       "                                                                  ║ \n",
       " c_5: 0 ══════════════════════════════════════════════════════════╩═\n",
       "                                                                    </pre>"
      ],
      "text/plain": [
       "<qiskit.visualization.text.TextDrawing at 0x7fd138df59b0>"
      ]
     },
     "execution_count": 30,
     "metadata": {},
     "output_type": "execute_result"
    }
   ],
   "source": [
    "circuit.draw()"
   ]
  },
  {
   "cell_type": "code",
   "execution_count": 31,
   "metadata": {},
   "outputs": [
    {
     "name": "stdout",
     "output_type": "stream",
     "text": [
      "{'101001': 1}\n"
     ]
    }
   ],
   "source": [
    "simulator = Aer.get_backend('qasm_simulator')\n",
    "result = execute(circuit, backend = simulator, shots = 1).result()\n",
    "counts = result.get_counts()\n",
    "print(counts)"
   ]
  },
  {
   "cell_type": "code",
   "execution_count": null,
   "metadata": {},
   "outputs": [],
   "source": []
  },
  {
   "cell_type": "code",
   "execution_count": null,
   "metadata": {},
   "outputs": [],
   "source": []
  },
  {
   "cell_type": "code",
   "execution_count": null,
   "metadata": {},
   "outputs": [],
   "source": []
  }
 ],
 "metadata": {
  "kernelspec": {
   "display_name": "Python 3",
   "language": "python",
   "name": "python3"
  },
  "language_info": {
   "codemirror_mode": {
    "name": "ipython",
    "version": 3
   },
   "file_extension": ".py",
   "mimetype": "text/x-python",
   "name": "python",
   "nbconvert_exporter": "python",
   "pygments_lexer": "ipython3",
   "version": "3.7.3"
  }
 },
 "nbformat": 4,
 "nbformat_minor": 2
}
